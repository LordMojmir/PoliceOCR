{
 "cells": [
  {
   "cell_type": "markdown",
   "id": "aa93035a-7583-4dd8-8d1d-34f4a2322db8",
   "metadata": {},
   "source": [
    "## Imports and Downloads"
   ]
  },
  {
   "cell_type": "code",
   "execution_count": null,
   "id": "a3cf2877-bb73-4da5-9674-3b01a1970ba5",
   "metadata": {
    "scrolled": true,
    "tags": []
   },
   "outputs": [],
   "source": [
    "# !pip install PyMuPDF"
   ]
  },
  {
   "cell_type": "code",
   "execution_count": null,
   "id": "8673069a-e01e-48ee-83de-dac21fa9fad2",
   "metadata": {
    "tags": []
   },
   "outputs": [],
   "source": [
    "# ! pip uninstall fitz"
   ]
  },
  {
   "cell_type": "code",
   "execution_count": null,
   "id": "da9dbc73-0d6a-41bb-bf0b-fdadb9424fcb",
   "metadata": {
    "scrolled": true
   },
   "outputs": [],
   "source": [
    "# ! pip install opencv-python"
   ]
  },
  {
   "cell_type": "code",
   "execution_count": null,
   "id": "96ce3d44-82a6-4201-87a7-3a6c1c1489e4",
   "metadata": {
    "scrolled": true,
    "tags": []
   },
   "outputs": [],
   "source": [
    "import cv2\n",
    "import easyocr\n",
    "import numpy as np\n",
    "import matplotlib.pyplot as plt\n",
    "from typing import List, Dict, Any\n",
    "import os\n",
    "import io\n",
    "from PIL import Image, ImageDraw, ImageFont\n",
    "import IPython.display as display\n",
    "import re\n",
    "import fitz  # PyMuPDF\n",
    "import json"
   ]
  },
  {
   "cell_type": "markdown",
   "id": "1c3cdba6-f15e-4658-8ad3-47ee6adba69c",
   "metadata": {},
   "source": [
    "## Working Functions"
   ]
  },
  {
   "cell_type": "markdown",
   "id": "58b4219c-3b06-4f0c-9779-37d9884ff970",
   "metadata": {},
   "source": [
    "### PDF, IMG func"
   ]
  },
  {
   "cell_type": "code",
   "execution_count": null,
   "id": "59e033a8-fd5e-4fd2-ae35-9aebcd43897f",
   "metadata": {
    "tags": []
   },
   "outputs": [],
   "source": [
    "def save_image(new_image: Image.Image, file_path: str) -> None:\n",
    "    \"\"\"\n",
    "    Save the given image to a file.\n",
    "\n",
    "    :param new_image: The image to save.\n",
    "    :param file_path: The path where to save the image.\n",
    "    \"\"\"\n",
    "    new_image.save(file_path)\n"
   ]
  },
  {
   "cell_type": "code",
   "execution_count": null,
   "id": "3d510d30-0d32-4d43-a725-96d9b0d2ac98",
   "metadata": {
    "tags": []
   },
   "outputs": [],
   "source": [
    "def pdf_to_img_old_working(pdf_path: str, output_folder: str):\n",
    "    doc = fitz.open(pdf_file)\n",
    "    for page_number in range(len(doc)):\n",
    "        page = doc.load_page(page_number)  # corrected method name\n",
    "        img = page.get_pixmap()\n",
    "        img.save(os.path.join(output_folder, f'page_{page_number + 1}.png'))\n",
    "    "
   ]
  },
  {
   "cell_type": "code",
   "execution_count": null,
   "id": "6cc114d2-fcaf-4405-bd9a-9139bdfcc057",
   "metadata": {
    "tags": []
   },
   "outputs": [],
   "source": [
    "def pdf_to_img(pdf_path: str, output_folder: str, only_create: bool = True) -> List[Image.Image]:\n",
    "    os.makedirs(output_folder, exist_ok=True)\n",
    "\n",
    "    doc = fitz.open(pdf_path)\n",
    "    images = []\n",
    "    for page_number in range(len(doc)):\n",
    "        \n",
    "        page = doc.load_page(page_number)\n",
    "        img = page.get_pixmap()\n",
    "        image_data = img.samples  # get image data\n",
    "        image = Image.frombytes(\"RGB\", [img.width, img.height], image_data)\n",
    "        images.append(image)\n",
    "        image.save(os.path.join(output_folder, f'page_{page_number + 1}.png'))\n",
    "    if only_create: \n",
    "        return None\n",
    "    return images"
   ]
  },
  {
   "cell_type": "markdown",
   "id": "1b5845e7-c54c-4f84-8c61-c3b13c4b8502",
   "metadata": {},
   "source": [
    "### OCR"
   ]
  },
  {
   "cell_type": "code",
   "execution_count": null,
   "id": "af4631d8-e7e8-4ead-ba77-8b1a0ffc6dd5",
   "metadata": {
    "tags": []
   },
   "outputs": [],
   "source": [
    "def read_txt_from_image_path(image_path) -> str:\n",
    "    image = Image.open(image_path)\n",
    "    \n",
    "    image_np = np.array(image)\n",
    "    \n",
    "    reader = easyocr.Reader(['de'], gpu=True)\n",
    "    \n",
    "    result = reader.readtext(image_np, paragraph=False)\n",
    "    return result"
   ]
  },
  {
   "cell_type": "code",
   "execution_count": null,
   "id": "80b2da47-4fa7-441e-8c7e-f923541e540d",
   "metadata": {
    "tags": []
   },
   "outputs": [],
   "source": [
    "def read_txt_from_image(image) -> str:\n",
    "        \n",
    "    image_np = np.array(image)\n",
    "    \n",
    "    reader = easyocr.Reader(['de'], gpu=True)\n",
    "    \n",
    "    result = reader.readtext(image_np, paragraph=False)\n",
    "    return result"
   ]
  },
  {
   "cell_type": "code",
   "execution_count": null,
   "id": "211e6ae4-0ecb-42b8-af5a-4e2906e7ccac",
   "metadata": {
    "tags": []
   },
   "outputs": [],
   "source": [
    "def extract_txt_from_reader_output(output_reader: str) -> str:\n",
    "    extracted_text = \"\"\n",
    "    for detection in output_reader:\n",
    "        text = detection[1]\n",
    "        extracted_text += text + \" \"\n",
    "    return extracted_text\n"
   ]
  },
  {
   "cell_type": "code",
   "execution_count": null,
   "id": "21876dd8-f5c3-47d1-801d-44f471465f60",
   "metadata": {},
   "outputs": [],
   "source": [
    "def print_output(output_with_coordinates: str) -> None:\n",
    "    pass"
   ]
  },
  {
   "cell_type": "markdown",
   "id": "b0808b68-eec5-48fe-9d62-cdea5ca110c0",
   "metadata": {},
   "source": [
    "### Find the values"
   ]
  },
  {
   "cell_type": "code",
   "execution_count": null,
   "id": "db3bf36e-4d6c-4471-8a4d-72d88cd420c5",
   "metadata": {
    "tags": []
   },
   "outputs": [],
   "source": [
    "def seaerch_for_keys(keys: List[str], str_output: str) -> Dict[str, any]: \n",
    "    result = {}\n",
    "    # ToDo find the values that come after the key\n",
    "    for key in keys:\n",
    "        result[key] = \"test\"\n",
    "    return result"
   ]
  },
  {
   "cell_type": "code",
   "execution_count": null,
   "id": "a7ca04bf-361a-4310-8d9f-d582c7e32641",
   "metadata": {
    "tags": []
   },
   "outputs": [],
   "source": [
    "def draw_output_to_image(ocr_results: str , save_location: str = '../data/output_images/test.png' ,save: bool = False):\n",
    "    image_width = 2000  \n",
    "    image_height = int(np.round(2000 * 1.4142))  \n",
    "\n",
    "    font_path = \"C:/Users/horva/anaconda3/Lib/site-packages/matplotlib/mpl-data/fonts/ttf/DejaVuSans.ttf\"\n",
    "    font = ImageFont.truetype(font_path, 20)  # You may need to adjust the font size\n",
    "\n",
    "    # Create a new white image\n",
    "    new_image = Image.new('RGB', (image_width, image_height), 'white')\n",
    "    draw = ImageDraw.Draw(new_image)\n",
    "\n",
    "#     # OCR results\n",
    "#     ocr_results = read_txt_from_image_path('./output_images_test_2/page_1.png')\n",
    "\n",
    "    for result in ocr_results:\n",
    "        coords = result[0]\n",
    "        text = result[1]\n",
    "        # Get the bounding box coordinates\n",
    "        top_left = coords[0]\n",
    "        bottom_right = coords[2]\n",
    "        # Draw text\n",
    "        draw.text(top_left, text, (0, 0, 0), font=font)  \n",
    "\n",
    "    if save:\n",
    "        save_image(new_image, save_location)\n",
    "    display.display(new_image)\n",
    "    "
   ]
  },
  {
   "cell_type": "code",
   "execution_count": null,
   "id": "7659c419-f821-4c6d-b699-2247c06c411d",
   "metadata": {},
   "outputs": [],
   "source": [
    "images = pdf_to_img( \"../data/2-Batch/1-Doc.pdf\", \"../data/2-Batch/1_Doc_output/\", False)\n",
    "images[1]"
   ]
  },
  {
   "cell_type": "code",
   "execution_count": null,
   "id": "3160a164-b492-4681-ab30-50b171052af9",
   "metadata": {
    "scrolled": true
   },
   "outputs": [],
   "source": [
    "read_txt_from_image(images[0])"
   ]
  },
  {
   "cell_type": "code",
   "execution_count": null,
   "id": "de3c8e49-c3c3-4946-b3a7-ed4557afea59",
   "metadata": {},
   "outputs": [],
   "source": [
    "draw_output_to_image(read_txt_from_image(images[0]), \"../data/2-Batch/1_Doc_output/page_clean_1.png\", True)"
   ]
  },
  {
   "cell_type": "markdown",
   "id": "d02c4216-6a34-46bd-b96f-2d33f79113c2",
   "metadata": {},
   "source": [
    "### save"
   ]
  },
  {
   "cell_type": "code",
   "execution_count": null,
   "id": "3bab4681-a4c9-49e7-a731-be6506c12d56",
   "metadata": {},
   "outputs": [],
   "source": [
    "def save_string_to_txt(content, filename, folder_path):\n",
    "    if not os.path.exists(folder_path):\n",
    "        os.makedirs(folder_path)\n",
    "    file_path = os.path.join(folder_path, filename)\n",
    "    with open(file_path, 'w') as file:\n",
    "        file.write(content)"
   ]
  },
  {
   "cell_type": "markdown",
   "id": "9916bbae-f2f8-4854-a24f-e5b59b80f3e6",
   "metadata": {},
   "source": [
    "## Run"
   ]
  },
  {
   "cell_type": "code",
   "execution_count": null,
   "id": "64eddf78-395d-4436-821d-2fb61111ed55",
   "metadata": {
    "tags": []
   },
   "outputs": [],
   "source": [
    "def read_in_new_penalty(pdf_path: str, output_folder_str: str):\n",
    "    images = pdf_to_img(pdf_path=pdf_path, output_folder=output_folder_str, only_create=False)\n",
    "    result: str = \"\"\n",
    "    print(f\"File has {len(images)} pages\")\n",
    "    for i, image in enumerate(images):\n",
    "        result += extract_txt_from_reader_output(read_txt_from_image(image))\n",
    "        print(f\"currently reading page {i}.\")\n",
    "    save_string_to_txt(result, \"output_ocr.txt\", output_folder_str)\n",
    "    print(result)"
   ]
  },
  {
   "cell_type": "code",
   "execution_count": null,
   "id": "da799cc1-6291-4449-8432-5b3cfc53708b",
   "metadata": {},
   "outputs": [],
   "source": [
    "read_in_new_penalty('../data/1-Batch/1_Doc.pdf', '../data/1-Batch/1_Doc_output/')"
   ]
  },
  {
   "cell_type": "code",
   "execution_count": null,
   "id": "918a11af-2dbf-4c13-b113-4446d352fae2",
   "metadata": {},
   "outputs": [],
   "source": [
    " read_in_new_penalty('../data/2-Batch/1-Doc.pdf', '../data/2-Batch/1_Doc_output/')"
   ]
  },
  {
   "cell_type": "code",
   "execution_count": null,
   "id": "e88a8fb3-e593-4c1c-a0b3-a69dff64b4e0",
   "metadata": {},
   "outputs": [],
   "source": []
  },
  {
   "cell_type": "markdown",
   "id": "57b7087d-52a3-4964-b7e9-05ddf530e29c",
   "metadata": {},
   "source": [
    "## Test Area"
   ]
  },
  {
   "cell_type": "code",
   "execution_count": null,
   "id": "f3f17f76-7461-4a78-be02-e46de00d1924",
   "metadata": {
    "tags": []
   },
   "outputs": [],
   "source": [
    "def find_nearest_GZ(data):\n",
    "    # Helper function to calculate the center of a bounding box\n",
    "    def calculate_center(bbox):\n",
    "        return [(bbox[0][0] + bbox[1][0]) / 2, (bbox[0][1] + bbox[3][1]) / 2]\n",
    "\n",
    "    # Finding the bounding box coordinates of 'GZ:'\n",
    "    gz_bbox = next((bbox for bbox, text, _ in data if text == 'GZ:'), None)\n",
    "    if gz_bbox is None:\n",
    "        return None  # 'GZ:' not found in data\n",
    "    \n",
    "    # Initializing a list to store distances and text information\n",
    "    distances_include_slash = []\n",
    "    \n",
    "    for bbox, text, _ in data:\n",
    "        if len(text) > 10 and ' ' not in text and '/' in text:\n",
    "            center = calculate_center(bbox)\n",
    "            gz_center = calculate_center(gz_bbox)\n",
    "            distance = np.sqrt((center[0] - gz_center[0]) ** 2 + (center[1] - gz_center[1]) ** 2)\n",
    "            distances_include_slash.append((distance, text, bbox))\n",
    "    \n",
    "    # Sorting the distances to find the nearest text element that meets all the criteria\n",
    "    nearest_text_include_slash = sorted(distances_include_slash, key=lambda x: x[0])[0] if distances_include_slash else None\n",
    "    return nearest_text_include_slash\n",
    "\n",
    "\n"
   ]
  },
  {
   "cell_type": "code",
   "execution_count": null,
   "id": "b32f1fb3-be94-4df7-b902-771ec86ced1d",
   "metadata": {
    "tags": []
   },
   "outputs": [],
   "source": [
    "def search_for_keys(keys: List[str], str_output: str) -> Dict[str, Any]:\n",
    "    result = {}\n",
    "        \n",
    "    for key in keys:\n",
    "        if key == \"GZ\":\n",
    "            match = re.search(r'GZ\\s*:?\\s*(\\S+)', str_output)\n",
    "        elif key == \"Verjährt\":\n",
    "            match = re.search(r'Verjährt am:\\s*(\\d{2}\\.\\d{2}\\.\\d{4})', str_output)\n",
    "#         else:\n",
    "#             # Default pattern: captures any word characters following the key\n",
    "#             pattern = re.compile(rf\"{re.escape(key)}.*?:(.*?)\\n\")\n",
    "        \n",
    "#         match = pattern.search(str_output)\n",
    "\n",
    "        if match:\n",
    "            result[key] = match.group(1)\n",
    "        else:\n",
    "            result[key] = None  # No match found for this key\n",
    "    \n",
    "    return result\n",
    "\n",
    "\n"
   ]
  },
  {
   "cell_type": "code",
   "execution_count": null,
   "id": "e8405072-6ccf-4458-b6bd-caaf5654d737",
   "metadata": {
    "tags": []
   },
   "outputs": [],
   "source": [
    "data_reader_output_1 = read_txt_from_image_path('../data/output_images/Strafverfugung-1_clean.png')\n",
    "data_reader_output_2 = read_txt_from_image_path('../data/output_images/Strafverfugung-2_clean.png')\n",
    "\n",
    "result = find_nearest_GZ(data_reader_output_1)\n",
    "result\n",
    "\n",
    "result = find_nearest_GZ(data_reader_output_2)\n",
    "result"
   ]
  },
  {
   "cell_type": "code",
   "execution_count": null,
   "id": "6dfcf335-e6c3-4d28-9a50-b945997f162c",
   "metadata": {},
   "outputs": [],
   "source": [
    "extract_txt_from_reader_output(read_txt_from_image_path(\"../data/1-Batch/1_Doc_output/page_1.png\") )"
   ]
  },
  {
   "cell_type": "code",
   "execution_count": null,
   "id": "d79ca35a-ac2f-4608-9996-1657c827f55e",
   "metadata": {
    "scrolled": true
   },
   "outputs": [],
   "source": [
    "data_reader_output_1\n"
   ]
  },
  {
   "cell_type": "code",
   "execution_count": null,
   "id": "14af3c90-40fd-4c5e-a8eb-227875cb4ec6",
   "metadata": {},
   "outputs": [],
   "source": []
  },
  {
   "cell_type": "code",
   "execution_count": null,
   "id": "2a60261b-e86f-4ad4-ad25-86261a538d50",
   "metadata": {
    "tags": []
   },
   "outputs": [],
   "source": [
    "pdf_file = '../data/Strafvollzugsordnung_1.pdf'\n",
    "output_folder = 'output_images_test_1'"
   ]
  },
  {
   "cell_type": "code",
   "execution_count": null,
   "id": "c5666d0d-dca6-42a3-b990-da49f64e7ee4",
   "metadata": {},
   "outputs": [],
   "source": []
  },
  {
   "cell_type": "code",
   "execution_count": null,
   "id": "51be0b4c-d59a-4703-b18a-e900ced7a8bf",
   "metadata": {
    "tags": []
   },
   "outputs": [],
   "source": [
    "test_output = extract_txt_from_reader_output(read_txt_from_image_path('../data/output_images/Strafverfugung-1_clean.png'))"
   ]
  },
  {
   "cell_type": "code",
   "execution_count": null,
   "id": "aaef6bcb-65de-44ad-883b-e6592099b719",
   "metadata": {
    "tags": []
   },
   "outputs": [],
   "source": [
    "test_output_2 = extract_txt_from_reader_output(read_txt_from_image_path('../data/output_images/Strafverfugung-2_clean.png'))"
   ]
  },
  {
   "cell_type": "code",
   "execution_count": null,
   "id": "0274e736-c101-4739-92f9-4ec25f6f2bde",
   "metadata": {
    "tags": []
   },
   "outputs": [],
   "source": [
    "test_output_2 = extract_txt_from_reader_output(read_txt_from_image_path('../data/output_images/Polizi_Strafe-2.png'))"
   ]
  },
  {
   "cell_type": "code",
   "execution_count": null,
   "id": "25e67109-af42-4282-ad57-b2613d24754c",
   "metadata": {
    "tags": []
   },
   "outputs": [],
   "source": [
    "keys = [\"GZ\", \"Verjährt\"]\n",
    "output = search_for_keys(keys, test_output_2)\n",
    "print(output)"
   ]
  },
  {
   "cell_type": "code",
   "execution_count": null,
   "id": "0553e249-a6f0-4268-a678-eab37e7fe82d",
   "metadata": {
    "tags": []
   },
   "outputs": [],
   "source": [
    "test_output"
   ]
  },
  {
   "cell_type": "code",
   "execution_count": null,
   "id": "3fed6b11-b152-40d1-b5f2-2af88cc0995a",
   "metadata": {
    "tags": []
   },
   "outputs": [],
   "source": [
    "test_output_2"
   ]
  },
  {
   "cell_type": "code",
   "execution_count": null,
   "id": "df81cfec-9a37-4e76-9683-d9265f25e594",
   "metadata": {
    "tags": []
   },
   "outputs": [],
   "source": [
    "test_output_without_par = extract_txt_from_reader_output(read_txt_from_image_path('../data/output_images/Polizi_Strafe-2.png'))"
   ]
  },
  {
   "cell_type": "code",
   "execution_count": null,
   "id": "c52fce58-46ce-4d9a-8008-426383e009d2",
   "metadata": {},
   "outputs": [],
   "source": []
  },
  {
   "cell_type": "code",
   "execution_count": null,
   "id": "75e79e1b-1449-4134-a45b-346fb64b26c3",
   "metadata": {},
   "outputs": [],
   "source": []
  },
  {
   "cell_type": "code",
   "execution_count": null,
   "id": "3ffb144b-211c-4551-9066-5f52b617670b",
   "metadata": {
    "jupyter": {
     "source_hidden": true
    },
    "tags": []
   },
   "outputs": [],
   "source": [
    "def extract_data(text):\n",
    "    # Define regex patterns for each label\n",
    "    name_pattern = re.compile(r\"Herr (\\w+ \\w+)\")\n",
    "    behorde_pattern = re.compile(r\"(Landespolizeidirektion Wien)\")\n",
    "    gz_vorfuhrende_pattern = re.compile(r\"GZ: (\\w+/[\\d]{4})\")\n",
    "    gz_strafende_pattern = re.compile(r\"Strafverfügung vom [\\d]{2}.\\d{2}.\\d{4}, (\\w+/[\\d]{4})\")\n",
    "    verjahrung_pattern = re.compile(r\"VVJ: (\\d{2}.\\d{2} \\d{4})\")\n",
    "    ersatzfreiheitsstrafe_pattern = re.compile(r\"Gesamt \\(offene Forderungen\\) (\\d+)\")\n",
    "    freiheitsstrafe_pattern = re.compile(r\"KFG 1967, BGBI Nr. 267/1967 zuletzt \\d{3},(\\d+) geändert durch\")\n",
    "    offene_strafen_pattern = re.compile(r\"Gesamtbetrag € (\\d+,\\d+)\")\n",
    "    sonstige_kosten_pattern = re.compile(r\"Sonstige Kosten: Es wird ersucht; die Kosteneintreibung zu versuchen  €(\\d+,\\d+)\")\n",
    "\n",
    "    # Extract data from text\n",
    "    name = name_pattern.search(text).group(1) if name_pattern.search(text) else None\n",
    "    behorde = behorde_pattern.search(text).group(1) if behorde_pattern.search(text) else None\n",
    "    gz_vorfuhrende = gz_vorfuhrende_pattern.search(text).group(1) if gz_vorfuhrende_pattern.search(text) else None\n",
    "    gz_strafende = gz_strafende_pattern.search(text).group(1) if gz_strafende_pattern.search(text) else None\n",
    "    verjahrung = verjahrung_pattern.search(text).group(1) if verjahrung_pattern.search(text) else None\n",
    "    ersatzfreiheitsstrafe = int(ersatzfreiheitsstrafe_pattern.search(text).group(1)) if ersatzfreiheitsstrafe_pattern.search(text) else None\n",
    "    freiheitsstrafe = int(freiheitsstrafe_pattern.search(text).group(1)) if freiheitsstrafe_pattern.search(text) else None\n",
    "    offene_strafen = float(offene_strafen_pattern.search(text).group(1).replace(',', '.')) if offene_strafen_pattern.search(text) else None\n",
    "    sonstige_kosten = float(sonstige_kosten_pattern.search(text).group(1).replace(',', '.')) if sonstige_kosten_pattern.search(text) else None\n",
    "\n",
    "    \n",
    "    # Construct the JSON structure\n",
    "    data = {\n",
    "        \"Name\": name,\n",
    "        \"Geburtsdatum\": None,\n",
    "        \"Behörde\": behorde,\n",
    "        \"Geschäftszahl (Vorführende Behörde)\": gz_vorfuhrende,\n",
    "        \"Geschäftszahl (Strafende Behörde)\": gz_strafende,\n",
    "        \"Verjährung\": verjahrung,\n",
    "        \"Ersatzfreiheitsstrafe\": {\n",
    "            \"Tage\": ersatzfreiheitsstrafe,\n",
    "            \"Stunden\": None,\n",
    "            \"Minuten\": None\n",
    "        },\n",
    "        \"Freiheitsstrafe\": {\n",
    "            \"Tage\": freiheitsstrafe,\n",
    "            \"Stunden\": None,\n",
    "            \"Minuten\": None\n",
    "        },\n",
    "        \"Offene Strafen (in €)\": offene_strafen,\n",
    "        \"sonstige Kosten (in €)\": sonstige_kosten\n",
    "    }\n",
    "    return data\n",
    "\n",
    "# Sample usage\n",
    "text = \"\"\"Landespolizeidirektion Wien Wien, 25.09.2023 GZ: VStVI923301717500/2023 Polizeikommissariat Innere Stadt Retouren an: W 01 PK Innere Stadt Strafvollzug Deutschmeisterplatz 3, 1010 Wien Referat 2 pk-w-0i1-kanzlei@polizeigvat Herr Paul Wenth, 5 4425 1140 Wlen Penzing Tel: +43 1 31 310 - 21140 Fax: +43 1 31 310 - 21109 Deutschmeisterplatz 3, 1010 Wien VVJ: 25.08 2026 Dlenslnummcr 90215544 Aufforderung zum Antritt der Freiheits-IErsatzfreiheitsstrafe ist folgende offene Strafe zu Aus der Strafverfügung vom 18.09.2023, VStVI923301717500/2023 vollstrecken: Ersatzfreiheitsstrafe Freiheitsstrafe Std. Min Tage Std. Min. Delikt Betrag in € $ 37 Abs. 1 FSG, i.d.F. BGBI Nr. 81/2002 i.V.m. $ Abs. 3 FSG, BGBI. Nr. 120/1997, zuletzt geändert durch 400,00 16 BGBL Nr. 74/2015 $ 102 Abs. 4 Kraftfahrgesetz 1967 KFG 1967, BGBI Nr. 267/1967 zuletzt 400,00 16 geändert durch BGBI. Nr. 35/2023 800,00 9 8 Gesamt (offene Forderungen) Offene Kosten gesamt: € 0,00 25.09.2023 ergibt sich   somit   ein offener Unter Berücksichtigung etwaiger   Teilzahlungen per (Geldsirafe inki: Kosten) in der Höhe von: Gesamtbetrag € 800,00 dass die Geldstrafe uneinbringlich   ist; muss nunmehr   die Da Grund ZU der   Annahme besteht; Ersatzfreiheitsstrafe vollstreckt werden innerhalb von zwei Wochen nach Erhalt dieses Schreibens im Wir fordern Sie auf, die Strafe Polizeianhaltezentrum Wien Roßauer Lände 1090 Wien, Roßauer Lände 7-9 Tel.: +43 1 31 310-30510 Version: 08.08.2022 Seite 1 von 2 VStVF 05 Aufforderung zum Antritt der Ersatzfreiheitsstrafe Tage Teils der ausstehenden Geldstrafe  auch noch während des Bei Begleichung nur eines Ersatzfreiheitsstrafe aliquot. Strafvollzugs vermindert sich die Dauer der Sonstige Kosten: Es wird ersucht; die Kosteneintreibung zu versuchen  €5,00 Mahngebühr Mahngebühr Strafen € 5,00 Offene Kosten per 27.04.2023 Offen Gesamt (Geldstrafe inkl. Kosten): 555,00 An das PAZ Anschlussvollzug (mit Beilage) 210000072407 Bei E-Banking unbedingt Zahlungsrererenzg in Euro: 555,00 angeben ; IBAN: AT131200010022813611 p BKAUATW BIC; Stadt Wien \"MA 6 - BA 32, Empfanger: Strafen\" f elektronisch gefertigt Für die Abteilungsleiterin Montag, Dienstag; Donnerstag und Freitag von 08:00 15:00 Uhr nur nach telefonischer Vereinbarung;am Kundkanseiegkcheiligentagmienstag Donnsrsvageno7.€zavon 08.00 11.00 Uhr nur nach lelefonischer Vereinbarung. Karreitag \"\"\"  # Your long text goes here\n",
    "result = extract_data(text)\n",
    "print(json.dumps(result, indent=4, ensure_ascii=False))\n"
   ]
  },
  {
   "cell_type": "markdown",
   "id": "af44550e-2064-4eb7-bf8c-ad2160e23675",
   "metadata": {
    "tags": []
   },
   "source": [
    "{\n",
    "    \"Name\": null,\n",
    "    \"Geburtsdatum\": null,\n",
    "    \"Behörde\": \"BEZIRKSHAUPTMANNSCHAFT BADEN\",\n",
    "    \"Geschäftszahl (Vorführende Behörde)\": \"BNSZ-V-22 73325/3\",\n",
    "    \"Geschäftszahl (Strafende Behörde)\": \"BNS2-V-22 73326/3\",\n",
    "    \"Verjährung\": null,\n",
    "    \"Ersatzfreiheitsstrafe (Tage/Stunden/Minuten)\": {\n",
    "        \"Tage\": 0,\n",
    "        \"Stunden\": 22,\n",
    "        \"Minuten\": 0\n",
    "    },\n",
    "    \"Freiheitsstrafe (Tage/Stunden/Minuten)\": {\n",
    "        \"Tage\": null,\n",
    "        \"Stunden\": null,\n",
    "        \"Minuten\": null\n",
    "    },\n",
    "    \"Offene Strafen (in €)\": \"€225,00\",\n",
    "    \"Sonstige Kosten (in €)\": \"€67,50\"\n",
    "}\n"
   ]
  },
  {
   "cell_type": "markdown",
   "id": "c9291fbc-7224-4c12-b664-28888eb843ec",
   "metadata": {},
   "source": [
    "{\n",
    "    \"Name\": null,\n",
    "    \"Geburtsdatum\": null,\n",
    "    \"Behörde\": \"Landespolizeidirektion Wien\",\n",
    "    \"Geschäftszahl (Vorführende Behörde)\": \"VStVI923301717500/2023\",\n",
    "    \"Geschäftszahl (Strafende Behörde)\": null,\n",
    "    \"Verjährung\": \"25.08.2026\",\n",
    "    \"Ersatzfreiheitsstrafe (Tage/Stunden/Minuten)\": {\n",
    "        \"Tage\": 9,\n",
    "        \"Stunden\": 8,\n",
    "        \"Minuten\": 0\n",
    "    },\n",
    "    \"Freiheitsstrafe (Tage/Stunden/Minuten)\": {\n",
    "        \"Tage\": null,\n",
    "        \"Stunden\": null,\n",
    "        \"Minuten\": null\n",
    "    },\n",
    "    \"Offene Strafen (in €)\": \"€800,00\",\n",
    "    \"Sonstige Kosten (in €)\": \"€5,00\"\n",
    "}\n"
   ]
  }
 ],
 "metadata": {
  "kernelspec": {
   "display_name": "Python 3 (ipykernel)",
   "language": "python",
   "name": "python3"
  },
  "language_info": {
   "codemirror_mode": {
    "name": "ipython",
    "version": 3
   },
   "file_extension": ".py",
   "mimetype": "text/x-python",
   "name": "python",
   "nbconvert_exporter": "python",
   "pygments_lexer": "ipython3",
   "version": "3.11.5"
  }
 },
 "nbformat": 4,
 "nbformat_minor": 5
}
