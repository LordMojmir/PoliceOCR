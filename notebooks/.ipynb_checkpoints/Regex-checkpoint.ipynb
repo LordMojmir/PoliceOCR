{
 "cells": [
  {
   "cell_type": "code",
   "execution_count": null,
   "id": "92d708d1-f9ac-4663-a296-9be4ed91aa6b",
   "metadata": {},
   "outputs": [],
   "source": [
    "# Creating the described dictionary\n",
    "\n",
    "data = {\n",
    "    \"Name\": [\"Name:\", \"Herr\", \"Frau\"],\n",
    "    \"Geburtsdatum\": [\"Geburtsdatum: \", \"Geburtsdatum\", \"dd.dd.ddd\", \"dd-dd-dddd\", \"dddd-dd-dd\"],\n",
    "    \"Behörde\": [],\n",
    "    \"Geschäftszahl (Vorführende Behörde)\": [\"Behörde\"],\n",
    "    \"Geschäftszahl (Strafende Behörde)\": \"BNS2-V-22 73326/3\",\n",
    "    \"Verjährung\": None,\n",
    "    \"Ersatzfreiheitsstrafe (Tage/Stunden/Minuten)\": {\n",
    "        \"Tage\": 0,\n",
    "        \"Stunden\": 22,\n",
    "        \"Minuten\": 0\n",
    "    },\n",
    "    \"Freiheitsstrafe (Tage/Stunden/Minuten)\": {\n",
    "        \"Tage\": None,\n",
    "        \"Stunden\": None,\n",
    "        \"Minuten\": None\n",
    "    },\n",
    "    \"Offene Strafen (in €)\": \"€225,00\",\n",
    "    \"Sonstige Kosten (in €)\": \"€67,50\"\n",
    "}\n"
   ]
  },
  {
   "cell_type": "code",
   "execution_count": null,
   "id": "43da2a56-0bb9-4d6c-a531-2005e4d1c609",
   "metadata": {},
   "outputs": [],
   "source": [
    "data"
   ]
  },
  {
   "cell_type": "code",
   "execution_count": null,
   "id": "40c03a20-90d6-4190-92fa-4441c83f5d8b",
   "metadata": {},
   "outputs": [],
   "source": []
  },
  {
   "cell_type": "code",
   "execution_count": null,
   "id": "2bc678db-0197-4c3e-a8e7-8026f8fca6e1",
   "metadata": {},
   "outputs": [],
   "source": []
  }
 ],
 "metadata": {
  "kernelspec": {
   "display_name": "Python 3 (ipykernel)",
   "language": "python",
   "name": "python3"
  },
  "language_info": {
   "codemirror_mode": {
    "name": "ipython",
    "version": 3
   },
   "file_extension": ".py",
   "mimetype": "text/x-python",
   "name": "python",
   "nbconvert_exporter": "python",
   "pygments_lexer": "ipython3",
   "version": "3.11.5"
  }
 },
 "nbformat": 4,
 "nbformat_minor": 5
}
